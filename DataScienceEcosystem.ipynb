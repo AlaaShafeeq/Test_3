{
 "cells": [
  {
   "cell_type": "markdown",
   "id": "b43c914e-e404-4dee-8efe-a117e1621f56",
   "metadata": {},
   "source": [
    "# Data Science Tool and Ecosystem"
   ]
  },
  {
   "cell_type": "markdown",
   "id": "fee3c7d7-13c7-4e1b-95a5-31a4635f64e3",
   "metadata": {},
   "source": [
    "### In this notebook, Data Science Tools and Ecosystem are summarized."
   ]
  },
  {
   "cell_type": "markdown",
   "id": "9c469202-a8e5-4f62-b7a7-7a854d1a1e2f",
   "metadata": {},
   "source": [
    "### some of the popular languages that Data Scientist use are:\n",
    "1. Python\n",
    "2. R\n",
    "3. Julia"
   ]
  },
  {
   "cell_type": "markdown",
   "id": "910a13fd-be30-428f-b71a-2e21ff7769a8",
   "metadata": {},
   "source": [
    "**Objectives**\n",
    "#### after completing this course, you will be familiar with data science languages like below: \n",
    "- Python\n",
    "- R\n",
    "- Julia"
   ]
  },
  {
   "cell_type": "markdown",
   "id": "5b059100-c9ab-46c5-b07a-2787b0dab37f",
   "metadata": {},
   "source": [
    "### some of the common used libraries used by Data Scientists are:\n",
    "1. Pandas\n",
    "2. NumPy\n",
    "3. SciPy"
   ]
  },
  {
   "cell_type": "markdown",
   "id": "c554179a-1aac-4533-b694-d6748264270c",
   "metadata": {},
   "source": [
    "|Data Science Tools|\n",
    "|------------------|\n",
    "|Jupyter|\n",
    "|Rstudio|\n",
    "|Apache Spark|\n"
   ]
  },
  {
   "cell_type": "markdown",
   "id": "024782be-0814-4fc3-9bae-7e69dc5d65b1",
   "metadata": {},
   "source": [
    "### Below are a few examples of evaluating arithmetic expression in Python\n",
    "- 1+1\n",
    "- 2+1\n",
    "- 3+1"
   ]
  },
  {
   "cell_type": "code",
   "execution_count": 2,
   "id": "333a70dc-4e5b-4d49-800c-1b26ab6ec50b",
   "metadata": {
    "tags": []
   },
   "outputs": [
    {
     "data": {
      "text/plain": [
       "17"
      ]
     },
     "execution_count": 2,
     "metadata": {},
     "output_type": "execute_result"
    }
   ],
   "source": [
    "# This a simple arithmetic expression to multiply then add integer\n",
    "(3*4)+5"
   ]
  },
  {
   "cell_type": "code",
   "execution_count": 3,
   "id": "95d13396-1bd8-40f2-a5c2-e89dffbc000d",
   "metadata": {
    "tags": []
   },
   "outputs": [
    {
     "data": {
      "text/plain": [
       "3.3333333333333335"
      ]
     },
     "execution_count": 3,
     "metadata": {},
     "output_type": "execute_result"
    }
   ],
   "source": [
    "# This will convert 200 minutes to hours by diving by 60\n",
    "200/60"
   ]
  },
  {
   "cell_type": "markdown",
   "id": "f359d710-40ee-47e2-8ead-b5d2cbdf3b28",
   "metadata": {},
   "source": [
    "## Author\n",
    "Alaa Anwar"
   ]
  },
  {
   "cell_type": "code",
   "execution_count": null,
   "id": "fb37e637-6394-4872-879a-02d5118defc4",
   "metadata": {},
   "outputs": [],
   "source": []
  }
 ],
 "metadata": {
  "kernelspec": {
   "display_name": "Python",
   "language": "python",
   "name": "conda-env-python-py"
  },
  "language_info": {
   "codemirror_mode": {
    "name": "ipython",
    "version": 3
   },
   "file_extension": ".py",
   "mimetype": "text/x-python",
   "name": "python",
   "nbconvert_exporter": "python",
   "pygments_lexer": "ipython3",
   "version": "3.7.12"
  }
 },
 "nbformat": 4,
 "nbformat_minor": 5
}
